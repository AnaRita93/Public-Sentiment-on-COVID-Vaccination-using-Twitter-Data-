{
 "cells": [
  {
   "cell_type": "code",
   "execution_count": 12,
   "id": "72a9832e",
   "metadata": {},
   "outputs": [],
   "source": [
    "'''\n",
    "NPL Analysis (sample)\n",
    "\n",
    "1. Pre-processing\n",
    "- cleaning up emojis and other carachters\n",
    "- lower case everythinG\n",
    "- STOP WORDS \n",
    "- vectorize words\n",
    "- lematization\n",
    "- tokenazation\n",
    "- TIF \n",
    "\n",
    "\n",
    "5.NLP models on Topic Modeling => Clusterig Problem\n",
    "Old school: Latent Dirichlet Allocation --> Viz \n",
    "For social media: GSDMMGibbs sampling algorithm for Drichlet Mixture Model \n",
    "\n",
    "\n",
    "References:\n",
    "https://towardsdatascience.com/social-media-and-topic-modeling-how-to-analyze-posts-in-practice-d84fc0c613cb\n",
    "https://towardsdatascience.com/twitter-topic-modeling-e0e3315b12e2\n",
    "https://towardsdatascience.com/gsdmm-topic-modeling-for-social-media-posts-and-reviews-8726489dc52f\n",
    "\n",
    "'''"
   ]
  },
  {
   "cell_type": "code",
   "execution_count": 1,
   "id": "f229ead1",
   "metadata": {},
   "outputs": [],
   "source": [
    "import pandas as pd\n",
    "\n",
    "path = '/home/rita/Documents/final project data/hydrated_sample_twid_vacc_2021_10_17_23_Summary_Hashtag.csv'\n",
    "df = pd.read_csv(path)"
   ]
  },
  {
   "cell_type": "code",
   "execution_count": 2,
   "id": "a346367b",
   "metadata": {},
   "outputs": [
    {
     "data": {
      "text/html": [
       "<div>\n",
       "<style scoped>\n",
       "    .dataframe tbody tr th:only-of-type {\n",
       "        vertical-align: middle;\n",
       "    }\n",
       "\n",
       "    .dataframe tbody tr th {\n",
       "        vertical-align: top;\n",
       "    }\n",
       "\n",
       "    .dataframe thead th {\n",
       "        text-align: right;\n",
       "    }\n",
       "</style>\n",
       "<table border=\"1\" class=\"dataframe\">\n",
       "  <thead>\n",
       "    <tr style=\"text-align: right;\">\n",
       "      <th></th>\n",
       "      <th>tweet_id</th>\n",
       "      <th>text</th>\n",
       "    </tr>\n",
       "  </thead>\n",
       "  <tbody>\n",
       "    <tr>\n",
       "      <th>0</th>\n",
       "      <td>1449874005327060997</td>\n",
       "      <td>RT @blf_tv: 🛑👉🏽Vaccination #Suisse : 34% des e...</td>\n",
       "    </tr>\n",
       "    <tr>\n",
       "      <th>1</th>\n",
       "      <td>1449874068828737537</td>\n",
       "      <td>Ladies &amp;amp; Gentlemen, the intellectual vangu...</td>\n",
       "    </tr>\n",
       "    <tr>\n",
       "      <th>2</th>\n",
       "      <td>1449875367460839428</td>\n",
       "      <td>Athletes are #Antivax because they think it’s ...</td>\n",
       "    </tr>\n",
       "    <tr>\n",
       "      <th>3</th>\n",
       "      <td>1449876162726010880</td>\n",
       "      <td>RT @blf_tv: 🛑👉🏽 Les gens se lèvent et parlent\\...</td>\n",
       "    </tr>\n",
       "    <tr>\n",
       "      <th>4</th>\n",
       "      <td>1449879181987307521</td>\n",
       "      <td>On ne sera plus jamais capable d'éradiquer une...</td>\n",
       "    </tr>\n",
       "  </tbody>\n",
       "</table>\n",
       "</div>"
      ],
      "text/plain": [
       "              tweet_id                                               text\n",
       "0  1449874005327060997  RT @blf_tv: 🛑👉🏽Vaccination #Suisse : 34% des e...\n",
       "1  1449874068828737537  Ladies &amp; Gentlemen, the intellectual vangu...\n",
       "2  1449875367460839428  Athletes are #Antivax because they think it’s ...\n",
       "3  1449876162726010880  RT @blf_tv: 🛑👉🏽 Les gens se lèvent et parlent\\...\n",
       "4  1449879181987307521  On ne sera plus jamais capable d'éradiquer une..."
      ]
     },
     "execution_count": 2,
     "metadata": {},
     "output_type": "execute_result"
    }
   ],
   "source": [
    "df.head()"
   ]
  },
  {
   "cell_type": "code",
   "execution_count": null,
   "id": "d692f7c9",
   "metadata": {},
   "outputs": [],
   "source": [
    "df.rename"
   ]
  },
  {
   "cell_type": "code",
   "execution_count": 3,
   "id": "f04096b0",
   "metadata": {},
   "outputs": [],
   "source": [
    "# Cleaning Emojis\n",
    "\n",
    "def give_emoji_free_text(text):\n",
    "    \"\"\"\n",
    "    Removes emoji's from tweets\n",
    "    Accepts:\n",
    "        Text (tweets)\n",
    "    Returns:\n",
    "        Text (emoji free tweets)\n",
    "    \"\"\"\n",
    "    emoji_list = [c for c in text if c in emoji.UNICODE_EMOJI]\n",
    "    clean_text = ' '.join([str for str in text.split() if not any(i in str for i in emoji_list)])\n",
    "    return clean_text\n",
    "\n"
   ]
  },
  {
   "cell_type": "code",
   "execution_count": 5,
   "id": "61f14286",
   "metadata": {},
   "outputs": [],
   "source": [
    "# Cleaning URLS\n",
    "def url_free_text(text):\n",
    "    '''\n",
    "    Cleans text from urls\n",
    "    '''\n",
    "    text = re.sub(r'http\\S+', '', text)\n",
    "    return text\n"
   ]
  },
  {
   "cell_type": "code",
   "execution_count": null,
   "id": "36c115a7",
   "metadata": {},
   "outputs": [],
   "source": [
    "call_emoji_free = lambda x: give_emoji_free_text(x)\n",
    "df['emoji_free_tweets'] = df['original_tweets'].apply(call_emoji_free)\n",
    "df['url_free_tweets'] = df['emoji_free_tweets'].apply(url_free_text)"
   ]
  },
  {
   "cell_type": "code",
   "execution_count": null,
   "id": "0748f02e",
   "metadata": {},
   "outputs": [],
   "source": [
    "##### Topic Modeling with Latent Dirichlet Allocation"
   ]
  },
  {
   "cell_type": "code",
   "execution_count": null,
   "id": "b9d1cfe6",
   "metadata": {},
   "outputs": [],
   "source": [
    "#### Topic Modeling with GSDMM Gibbs Sampling algo for Dirichlet Mixture Model"
   ]
  }
 ],
 "metadata": {
  "kernelspec": {
   "display_name": "Python 3 (ipykernel)",
   "language": "python",
   "name": "python3"
  },
  "language_info": {
   "codemirror_mode": {
    "name": "ipython",
    "version": 3
   },
   "file_extension": ".py",
   "mimetype": "text/x-python",
   "name": "python",
   "nbconvert_exporter": "python",
   "pygments_lexer": "ipython3",
   "version": "3.8.10"
  },
  "pycharm": {
   "stem_cell": {
    "cell_type": "raw",
    "metadata": {
     "collapsed": false
    },
    "source": [
     "#%\"\"\"\n",
     "NPL Analysis (sample)\n",
     "\n",
     "1. Data Integration \n",
     "- match text with language information --> Summary details\n",
     "- match text with hashtags --> Summary hastags \n",
     "- match text with Mentions --> Summary mentions \n",
     "\n",
     "2. Sentiment on English and Spanish languaged only:[opportunity to test on more languages??]\n",
     "- match text with sentiment information\n",
     "- match text with NER information (Named Entity Reconition - person, location, organization, miscelaneous)\n",
     "\n",
     "3.Pre-processing\n",
     "- cleaning up emojis and other carachters\n",
     "- lower case everythin\n",
     "- vectorize words\n",
     "\n",
     "\n",
     "4.Text analytics \n",
     "\n",
     "\n",
     "5.NLP models on Topic Modeling => Clusterig Problem\n",
     "Old school: Latent Dirichlet Allocation\n",
     "For social media: GSDMMGibbs sampling algorithm for Drichlet Mixture Model \n",
     "\n",
     "\n",
     "References:\n",
     "https://towardsdatascience.com/social-media-and-topic-modeling-how-to-analyze-posts-in-practice-d84fc0c613cb\n",
     "https://towardsdatascience.com/twitter-topic-modeling-e0e3315b12e2\n",
     "https://towardsdatascience.com/gsdmm-topic-modeling-for-social-media-posts-and-reviews-8726489dc52f\n",
     "\n",
     "\"\"\"\n"
    ]
   }
  }
 },
 "nbformat": 4,
 "nbformat_minor": 5
}
